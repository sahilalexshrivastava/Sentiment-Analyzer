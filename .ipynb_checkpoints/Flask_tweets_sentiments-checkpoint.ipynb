{
 "cells": [
  {
   "cell_type": "code",
   "execution_count": null,
   "metadata": {},
   "outputs": [
    {
     "name": "stdout",
     "output_type": "stream",
     "text": [
      " * Serving Flask app \"__main__\" (lazy loading)\n",
      " * Environment: production\n",
      "   WARNING: This is a development server. Do not use it in a production deployment.\n",
      "   Use a production WSGI server instead.\n",
      " * Debug mode: off\n"
     ]
    },
    {
     "name": "stderr",
     "output_type": "stream",
     "text": [
      "[nltk_data] Downloading package vader_lexicon to\n",
      "[nltk_data]     C:\\Users\\sahil\\AppData\\Roaming\\nltk_data...\n",
      "[nltk_data]   Package vader_lexicon is already up-to-date!\n",
      " * Running on http://127.0.0.1:5000/ (Press CTRL+C to quit)\n"
     ]
    }
   ],
   "source": [
    "import nltk\n",
    "import re\n",
    "import tweepy\n",
    "import pandas as pd\n",
    "from textblob import TextBlob\n",
    "from nltk.sentiment.vader import SentimentIntensityAnalyzer\n",
    "nltk.download('vader_lexicon')\n",
    "def clean_text(text):\n",
    "    text = re.sub(r'@[A-Za-z0-9]+', '', text)\n",
    "    text = re.sub(r'#', '', text)\n",
    "    text = re.sub(r'RT[\\s]+', '', text)\n",
    "    text = re.sub(r'https?:\\/\\/\\S+', '', text)\n",
    "    return text\n",
    "\n",
    "def sentiment(text):\n",
    "    sia = SentimentIntensityAnalyzer()\n",
    "    score = sia.polarity_scores(text)\n",
    "    compound = score['compound']\n",
    "    \n",
    "    if compound>0:\n",
    "        tag = 'pos'\n",
    "        return tag\n",
    "    elif compound<0:\n",
    "        tag = 'neg'\n",
    "        return tag\n",
    "    else:\n",
    "        tag = 'neu'\n",
    "        return tag\n",
    "\n",
    "def tweets(hashtag):\n",
    "    consumer_key = 'XzCRnnff5MJtxoY33tgWddRZ6'\n",
    "    consumer_secret = '75yXXC9hrQ4gPoTrfheeGhdgBUZGsM4JTQV07hZKAhT1QGnZ3j'\n",
    "\n",
    "    access_token = '1911808627-W7HyrD9OAKIj3EHyQU80ZT0FwEpEsZhZ9MwyXhZ'\n",
    "    access_token_secret = 'SrCpAu5pEoM0dYjrDfGZ5xurhHgjSMFrsdVZuhZQvXKdj'\n",
    "\n",
    "    auth = tweepy.OAuthHandler(consumer_key, consumer_secret)\n",
    "    auth.set_access_token(access_token, access_token_secret)\n",
    "\n",
    "    api = tweepy.API(auth)\n",
    "\n",
    "    public_tweets = tweepy.Cursor(api.search, q=hashtag, lang=\"en\").items(500)\n",
    "    \n",
    "    df = pd.DataFrame([tweet.text for tweet in public_tweets], columns=['Tweets'])\n",
    "    df['Tweets'] = df['Tweets'].apply(clean_text)\n",
    "    df['Sentiments'] = df['Tweets'].apply(sentiment)\n",
    "    \n",
    "    s = df['Sentiments'].value_counts()[df['Sentiments'].value_counts() == df['Sentiments'].value_counts().max()]\n",
    "    s1 = s.index\n",
    "    \n",
    "    return s1\n",
    "    \n",
    "from flask import Flask,request,render_template\n",
    "import pickle\n",
    "\n",
    "app = Flask(__name__)\n",
    "\n",
    "\n",
    "@app.route('/')\n",
    "def hello_world():\n",
    "    return render_template(\"login.html\")\n",
    "database={'sahil':'123','james':'aac','karthik':'asdsf'}\n",
    "\n",
    "@app.route('/form_login',methods=['POST','GET'])\n",
    "def login():\n",
    "    name1=request.form['username']\n",
    "    pwd=request.form['password']\n",
    "    if name1 not in database:\n",
    "\t    return render_template('login.html',info='Invalid User')\n",
    "    else:\n",
    "        if database[name1]!=pwd:\n",
    "            return render_template('login.html',info='Invalid Password')\n",
    "        else:\n",
    "\t         return render_template('home.html',name=name1)\n",
    "             \n",
    "@app.route('/post_hashtag',methods=['POST','GET'])\n",
    "def get_sentiment():\n",
    "    name2 = request.form['hashtag']\n",
    "    hs = '#'\n",
    "    tag = hs + name2\n",
    "    senti = tweets(tag) \n",
    "    return render_template('home.html',hashtag=senti,value = name2)\n",
    "if __name__ == '__main__':\n",
    "    app.run()\n",
    "    \n",
    "#senti = tweets(\"#india\")\n",
    "#print(senti.values)"
   ]
  },
  {
   "cell_type": "code",
   "execution_count": null,
   "metadata": {},
   "outputs": [],
   "source": []
  },
  {
   "cell_type": "code",
   "execution_count": null,
   "metadata": {},
   "outputs": [],
   "source": [
    "import pandas as pd\n",
    "from textblob import TextBlob\n",
    "from nltk.sentiment.vader import SentimentIntensityAnalyzer"
   ]
  },
  {
   "cell_type": "code",
   "execution_count": null,
   "metadata": {},
   "outputs": [],
   "source": [
    "sia = SentimentIntensityAnalyzer()"
   ]
  },
  {
   "cell_type": "code",
   "execution_count": null,
   "metadata": {},
   "outputs": [],
   "source": [
    "data = pd.read_csv('amazonreviews.txt', sep='\\t')\n",
    "data.head()"
   ]
  },
  {
   "cell_type": "code",
   "execution_count": null,
   "metadata": {},
   "outputs": [],
   "source": [
    "score1 = data['review'].apply(lambda review: sia.polarity_scores(review))\n",
    "compound = score1.apply(lambda score_dict: score_dict['compound'])\n",
    "data['sia'] = compound.apply(lambda c: 'pos' if c>=0 else 'neg')\n",
    "data.head()"
   ]
  },
  {
   "cell_type": "code",
   "execution_count": null,
   "metadata": {},
   "outputs": [],
   "source": [
    "score2 = data['review'].apply(lambda review: TextBlob(review).sentiment.polarity)\n",
    "data['textblob'] = score2.apply(lambda c: 'pos' if c>=0 else 'neg')\n",
    "data.head()"
   ]
  },
  {
   "cell_type": "code",
   "execution_count": null,
   "metadata": {},
   "outputs": [],
   "source": [
    "from sklearn.metrics import accuracy_score, classification_report, confusion_matrix"
   ]
  },
  {
   "cell_type": "code",
   "execution_count": null,
   "metadata": {},
   "outputs": [],
   "source": [
    "accuracy1 = accuracy_score(data['label'], data['sia'])\n",
    "accuracy2 = accuracy_score(data['label'], data['textblob'])\n",
    "print(accuracy1)\n",
    "print(accuracy2)"
   ]
  }
 ],
 "metadata": {
  "kernelspec": {
   "display_name": "Python 3",
   "language": "python",
   "name": "python3"
  },
  "language_info": {
   "codemirror_mode": {
    "name": "ipython",
    "version": 3
   },
   "file_extension": ".py",
   "mimetype": "text/x-python",
   "name": "python",
   "nbconvert_exporter": "python",
   "pygments_lexer": "ipython3",
   "version": "3.7.4"
  }
 },
 "nbformat": 4,
 "nbformat_minor": 4
}
